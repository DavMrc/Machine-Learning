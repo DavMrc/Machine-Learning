{
 "metadata": {
  "language_info": {
   "codemirror_mode": {
    "name": "ipython",
    "version": 3
   },
   "file_extension": ".py",
   "mimetype": "text/x-python",
   "name": "python",
   "nbconvert_exporter": "python",
   "pygments_lexer": "ipython3",
   "version": "3.8.5-final"
  },
  "orig_nbformat": 2,
  "kernelspec": {
   "name": "Python 3.8.5 64-bit ('ml': conda)",
   "display_name": "Python 3.8.5 64-bit ('ml': conda)",
   "metadata": {
    "interpreter": {
     "hash": "5ed9ade929ebf7131992a65451890af42d9eab7dcfb648fd0fcd7ac6f8924756"
    }
   }
  }
 },
 "nbformat": 4,
 "nbformat_minor": 2,
 "cells": [
  {
   "source": [
    "# Udemy development courses analysis\n",
    "\n",
    "In this notebook I'll take a look at a large amount of Udemy courses in the category \"Development\".  \n",
    "There are courses from Finance, Accounting, Book Keeping, Compliance, Cryptocurrence, Blockchain, Economics, Investing & Trading, Taxes and much more each having multiple courses under it's domain.  \n",
    "\n",
    "I am interested in developing a Machine Learning model that tries to predict the rating for a course."
   ],
   "cell_type": "markdown",
   "metadata": {}
  },
  {
   "source": [
    "# 1. Data\n",
    "\n",
    "Original data comes from [Kaggle](https://www.kaggle.com/jilkothari/finance-accounting-courses-udemy-13k-course)."
   ],
   "cell_type": "markdown",
   "metadata": {}
  },
  {
   "source": [
    "# 2. Features\n",
    "\n",
    "There are 17 features described in the dataset:\n",
    "\n",
    "* `id`: The course ID of that particular course.\n",
    "* `title`: Shows the unique names of the courses available under the development category on Udemy.\n",
    "* `url`: Gives the URL of the course.\n",
    "* `is_paid`: Returns a boolean value displaying true if the course is paid and false if otherwise.\n",
    "* `num_subscribers`: Shows the number of people who have subscribed that course.\n",
    "* `avgrating recent`: Reflects the recent changes in the average rating.\n",
    "* `num_reviews`: Gives us an idea related to the number of ratings that a course has received.\n",
    "* `num_published_lectures`: Shows the number of lectures the course offers.\n",
    "* `num_published_practice_tests`: Gives an idea of the number of practice tests that a course offers.\n",
    "* `created`: The time of creation of the course.\n",
    "* `published_time`: Time of publishing the course.\n",
    "* `discounted_price_amount`: The discounted price which a certain course is being offered at.\n",
    "* `discounted_price_currency`: The currency corresponding to the discounted price which a certain course is being offered at.\n",
    "* `price_detail_amount`: The original price of a particular course.\n",
    "* `price_detail_currency`: The currency corresponding to the price detail amount for a course.\n",
    "\n",
    "I will use `avg_rating` as the target feature."
   ],
   "cell_type": "markdown",
   "metadata": {}
  },
  {
   "source": [
    "# 3. Evaluation\n",
    "\n",
    "Since I am trying to predict a numeric value, **this will be a regression problem**.  \n",
    "For this reason, I will evaluate my model using the standard measures for a regression problem, most importantly `mean squared error (MSE)`."
   ],
   "cell_type": "markdown",
   "metadata": {}
  },
  {
   "source": [
    "# 4. Exploratory analysis"
   ],
   "cell_type": "markdown",
   "metadata": {}
  },
  {
   "cell_type": "code",
   "execution_count": 1,
   "metadata": {},
   "outputs": [],
   "source": [
    "import pandas as pd\n",
    "import numpy as np\n",
    "import matplotlib.pyplot as plt\n",
    "import seaborn as sb\n",
    "\n",
    "seed = 893145"
   ]
  },
  {
   "cell_type": "code",
   "execution_count": 2,
   "metadata": {},
   "outputs": [
    {
     "output_type": "execute_result",
     "data": {
      "text/plain": [
       "        id                                              title  \\\n",
       "0   762616  The Complete SQL Bootcamp 2020: Go from Zero t...   \n",
       "1   937678  Tableau 2020 A-Z: Hands-On Tableau Training fo...   \n",
       "2  1361790             PMP Exam Prep Seminar -  PMBOK Guide 6   \n",
       "3   648826         The Complete Financial Analyst Course 2020   \n",
       "4   637930  An Entire MBA in 1 Course:Award Winning Busine...   \n",
       "\n",
       "                                                 url  is_paid  \\\n",
       "0                 /course/the-complete-sql-bootcamp/     True   \n",
       "1                                 /course/tableau10/     True   \n",
       "2                        /course/pmp-pmbok6-35-pdus/     True   \n",
       "3     /course/the-complete-financial-analyst-course/     True   \n",
       "4  /course/an-entire-mba-in-1-courseaward-winning...     True   \n",
       "\n",
       "   num_subscribers  avg_rating  avg_rating_recent   rating  num_reviews  \\\n",
       "0           295509     4.66019            4.67874  4.67874        78006   \n",
       "1           209070     4.58956            4.60015  4.60015        54581   \n",
       "2           155282     4.59491            4.59326  4.59326        52653   \n",
       "3           245860     4.54407            4.53772  4.53772        46447   \n",
       "4           374836     4.47080            4.47173  4.47173        41630   \n",
       "\n",
       "   is_wishlisted  num_published_lectures  num_published_practice_tests  \\\n",
       "0          False                      84                             0   \n",
       "1          False                      78                             0   \n",
       "2          False                     292                             2   \n",
       "3          False                     338                             0   \n",
       "4          False                      83                             0   \n",
       "\n",
       "                created        published_time  discount_price_amount  \\\n",
       "0  2016-02-14T22:57:48Z  2016-04-06T05:16:11Z                  455.0   \n",
       "1  2016-08-22T12:10:18Z  2016-08-23T16:59:49Z                  455.0   \n",
       "2  2017-09-26T16:32:48Z  2017-11-14T23:58:14Z                  455.0   \n",
       "3  2015-10-23T13:34:35Z  2016-01-21T01:38:48Z                  455.0   \n",
       "4  2015-10-12T06:39:46Z  2016-01-11T21:39:33Z                  455.0   \n",
       "\n",
       "  discount_price_currency discount_price_price_string  price_detail_amount  \\\n",
       "0                     INR                        ₹455               8640.0   \n",
       "1                     INR                        ₹455               8640.0   \n",
       "2                     INR                        ₹455               8640.0   \n",
       "3                     INR                        ₹455               8640.0   \n",
       "4                     INR                        ₹455               8640.0   \n",
       "\n",
       "  price_detail_currency price_detail_price_string  \n",
       "0                   INR                    ₹8,640  \n",
       "1                   INR                    ₹8,640  \n",
       "2                   INR                    ₹8,640  \n",
       "3                   INR                    ₹8,640  \n",
       "4                   INR                    ₹8,640  "
      ],
      "text/html": "<div>\n<style scoped>\n    .dataframe tbody tr th:only-of-type {\n        vertical-align: middle;\n    }\n\n    .dataframe tbody tr th {\n        vertical-align: top;\n    }\n\n    .dataframe thead th {\n        text-align: right;\n    }\n</style>\n<table border=\"1\" class=\"dataframe\">\n  <thead>\n    <tr style=\"text-align: right;\">\n      <th></th>\n      <th>id</th>\n      <th>title</th>\n      <th>url</th>\n      <th>is_paid</th>\n      <th>num_subscribers</th>\n      <th>avg_rating</th>\n      <th>avg_rating_recent</th>\n      <th>rating</th>\n      <th>num_reviews</th>\n      <th>is_wishlisted</th>\n      <th>num_published_lectures</th>\n      <th>num_published_practice_tests</th>\n      <th>created</th>\n      <th>published_time</th>\n      <th>discount_price_amount</th>\n      <th>discount_price_currency</th>\n      <th>discount_price_price_string</th>\n      <th>price_detail_amount</th>\n      <th>price_detail_currency</th>\n      <th>price_detail_price_string</th>\n    </tr>\n  </thead>\n  <tbody>\n    <tr>\n      <th>0</th>\n      <td>762616</td>\n      <td>The Complete SQL Bootcamp 2020: Go from Zero t...</td>\n      <td>/course/the-complete-sql-bootcamp/</td>\n      <td>True</td>\n      <td>295509</td>\n      <td>4.66019</td>\n      <td>4.67874</td>\n      <td>4.67874</td>\n      <td>78006</td>\n      <td>False</td>\n      <td>84</td>\n      <td>0</td>\n      <td>2016-02-14T22:57:48Z</td>\n      <td>2016-04-06T05:16:11Z</td>\n      <td>455.0</td>\n      <td>INR</td>\n      <td>₹455</td>\n      <td>8640.0</td>\n      <td>INR</td>\n      <td>₹8,640</td>\n    </tr>\n    <tr>\n      <th>1</th>\n      <td>937678</td>\n      <td>Tableau 2020 A-Z: Hands-On Tableau Training fo...</td>\n      <td>/course/tableau10/</td>\n      <td>True</td>\n      <td>209070</td>\n      <td>4.58956</td>\n      <td>4.60015</td>\n      <td>4.60015</td>\n      <td>54581</td>\n      <td>False</td>\n      <td>78</td>\n      <td>0</td>\n      <td>2016-08-22T12:10:18Z</td>\n      <td>2016-08-23T16:59:49Z</td>\n      <td>455.0</td>\n      <td>INR</td>\n      <td>₹455</td>\n      <td>8640.0</td>\n      <td>INR</td>\n      <td>₹8,640</td>\n    </tr>\n    <tr>\n      <th>2</th>\n      <td>1361790</td>\n      <td>PMP Exam Prep Seminar -  PMBOK Guide 6</td>\n      <td>/course/pmp-pmbok6-35-pdus/</td>\n      <td>True</td>\n      <td>155282</td>\n      <td>4.59491</td>\n      <td>4.59326</td>\n      <td>4.59326</td>\n      <td>52653</td>\n      <td>False</td>\n      <td>292</td>\n      <td>2</td>\n      <td>2017-09-26T16:32:48Z</td>\n      <td>2017-11-14T23:58:14Z</td>\n      <td>455.0</td>\n      <td>INR</td>\n      <td>₹455</td>\n      <td>8640.0</td>\n      <td>INR</td>\n      <td>₹8,640</td>\n    </tr>\n    <tr>\n      <th>3</th>\n      <td>648826</td>\n      <td>The Complete Financial Analyst Course 2020</td>\n      <td>/course/the-complete-financial-analyst-course/</td>\n      <td>True</td>\n      <td>245860</td>\n      <td>4.54407</td>\n      <td>4.53772</td>\n      <td>4.53772</td>\n      <td>46447</td>\n      <td>False</td>\n      <td>338</td>\n      <td>0</td>\n      <td>2015-10-23T13:34:35Z</td>\n      <td>2016-01-21T01:38:48Z</td>\n      <td>455.0</td>\n      <td>INR</td>\n      <td>₹455</td>\n      <td>8640.0</td>\n      <td>INR</td>\n      <td>₹8,640</td>\n    </tr>\n    <tr>\n      <th>4</th>\n      <td>637930</td>\n      <td>An Entire MBA in 1 Course:Award Winning Busine...</td>\n      <td>/course/an-entire-mba-in-1-courseaward-winning...</td>\n      <td>True</td>\n      <td>374836</td>\n      <td>4.47080</td>\n      <td>4.47173</td>\n      <td>4.47173</td>\n      <td>41630</td>\n      <td>False</td>\n      <td>83</td>\n      <td>0</td>\n      <td>2015-10-12T06:39:46Z</td>\n      <td>2016-01-11T21:39:33Z</td>\n      <td>455.0</td>\n      <td>INR</td>\n      <td>₹455</td>\n      <td>8640.0</td>\n      <td>INR</td>\n      <td>₹8,640</td>\n    </tr>\n  </tbody>\n</table>\n</div>"
     },
     "metadata": {},
     "execution_count": 2
    }
   ],
   "source": [
    "df = pd.read_csv('./data/udemy-development-courses.csv')\n",
    "df.head()"
   ]
  },
  {
   "cell_type": "code",
   "execution_count": 3,
   "metadata": {},
   "outputs": [
    {
     "output_type": "stream",
     "name": "stdout",
     "text": [
      "<class 'pandas.core.frame.DataFrame'>\nRangeIndex: 13608 entries, 0 to 13607\nData columns (total 20 columns):\n #   Column                        Non-Null Count  Dtype  \n---  ------                        --------------  -----  \n 0   id                            13608 non-null  int64  \n 1   title                         13608 non-null  object \n 2   url                           13608 non-null  object \n 3   is_paid                       13608 non-null  bool   \n 4   num_subscribers               13608 non-null  int64  \n 5   avg_rating                    13608 non-null  float64\n 6   avg_rating_recent             13608 non-null  float64\n 7   rating                        13608 non-null  float64\n 8   num_reviews                   13608 non-null  int64  \n 9   is_wishlisted                 13608 non-null  bool   \n 10  num_published_lectures        13608 non-null  int64  \n 11  num_published_practice_tests  13608 non-null  int64  \n 12  created                       13608 non-null  object \n 13  published_time                13608 non-null  object \n 14  discount_price_amount         12205 non-null  float64\n 15  discount_price_currency       12205 non-null  object \n 16  discount_price_price_string   12205 non-null  object \n 17  price_detail_amount           13111 non-null  float64\n 18  price_detail_currency         13111 non-null  object \n 19  price_detail_price_string     13111 non-null  object \ndtypes: bool(2), float64(5), int64(5), object(8)\nmemory usage: 1.9+ MB\n"
     ]
    }
   ],
   "source": [
    "df.info()"
   ]
  },
  {
   "source": [
    "We can see that there are some missing values. Let's get a more accurate view."
   ],
   "cell_type": "markdown",
   "metadata": {}
  },
  {
   "cell_type": "code",
   "execution_count": 4,
   "metadata": {},
   "outputs": [
    {
     "output_type": "execute_result",
     "data": {
      "text/plain": [
       "id                                 0\n",
       "title                              0\n",
       "url                                0\n",
       "is_paid                            0\n",
       "num_subscribers                    0\n",
       "avg_rating                         0\n",
       "avg_rating_recent                  0\n",
       "rating                             0\n",
       "num_reviews                        0\n",
       "is_wishlisted                      0\n",
       "num_published_lectures             0\n",
       "num_published_practice_tests       0\n",
       "created                            0\n",
       "published_time                     0\n",
       "discount_price_amount           1403\n",
       "discount_price_currency         1403\n",
       "discount_price_price_string     1403\n",
       "price_detail_amount              497\n",
       "price_detail_currency            497\n",
       "price_detail_price_string        497\n",
       "dtype: int64"
      ]
     },
     "metadata": {},
     "execution_count": 4
    }
   ],
   "source": [
    "df.isna().sum()"
   ]
  },
  {
   "source": [
    "## Filling missing values\n",
    "\n",
    "Sklearn offers a simple pipelining imputing. I will use just that.  \n",
    "\n",
    "First, however, we have to understand **which** value to impute each column with."
   ],
   "cell_type": "markdown",
   "metadata": {}
  },
  {
   "cell_type": "code",
   "execution_count": 5,
   "metadata": {},
   "outputs": [
    {
     "output_type": "execute_result",
     "data": {
      "text/plain": [
       "INR    0.896899\n",
       "Name: discount_price_currency, dtype: float64"
      ]
     },
     "metadata": {},
     "execution_count": 5
    }
   ],
   "source": [
    "df.discount_price_currency.value_counts() / len(df)"
   ]
  },
  {
   "source": [
    "df.price_detail_currency.value_counts()/ len(df)"
   ],
   "cell_type": "code",
   "metadata": {},
   "execution_count": 6,
   "outputs": [
    {
     "output_type": "execute_result",
     "data": {
      "text/plain": [
       "INR    0.963477\n",
       "Name: price_detail_currency, dtype: float64"
      ]
     },
     "metadata": {},
     "execution_count": 6
    }
   ]
  },
  {
   "source": [
    "Since there is a predominant value, we won't cause much trouble by imputing the missing values with the same value.  \n",
    "Later in modeling, that will result in an useless feature, but for now let's not think about it.  \n",
    "\n",
    "Now let's focus on `discount_price_price_string` and `price_detail_price_string`.  \n",
    "I suspect that their values are just the string version of, respectively, `discount_price_amount` and `price_detail_amount`.  \n",
    "If this guess was true, then these columns are just a repetition and can therefore be dropped.  \n",
    "Let's check."
   ],
   "cell_type": "markdown",
   "metadata": {}
  },
  {
   "cell_type": "code",
   "execution_count": 7,
   "metadata": {},
   "outputs": [
    {
     "output_type": "execute_result",
     "data": {
      "text/plain": [
       "True"
      ]
     },
     "metadata": {},
     "execution_count": 7
    }
   ],
   "source": [
    "list(df.discount_price_amount.value_counts()) == list(df.discount_price_price_string.value_counts())"
   ]
  },
  {
   "cell_type": "code",
   "execution_count": 8,
   "metadata": {},
   "outputs": [
    {
     "output_type": "execute_result",
     "data": {
      "text/plain": [
       "True"
      ]
     },
     "metadata": {},
     "execution_count": 8
    }
   ],
   "source": [
    "list(df.price_detail_amount.value_counts()) == list(df.price_detail_price_string.value_counts())"
   ]
  },
  {
   "source": [
    "Exactely.  \n",
    "I will then `drop()` these two."
   ],
   "cell_type": "markdown",
   "metadata": {}
  },
  {
   "cell_type": "code",
   "execution_count": 9,
   "metadata": {},
   "outputs": [],
   "source": [
    "df.drop(['discount_price_price_string', 'price_detail_price_string'], axis=1, inplace=True)"
   ]
  },
  {
   "source": [
    "We are then left with these four columns to impute:\n",
    "* `discount_price_amount`\n",
    "* `price_detail_amount`\n",
    "* `discount_price_currency`\n",
    "* `price_detail_currency`\n",
    "\n",
    "We've said that for the `*_currency` columns we'll use a constant value, while for `*_amount` columns, since their `type` is numeric, we'll use the mean value."
   ],
   "cell_type": "markdown",
   "metadata": {}
  },
  {
   "cell_type": "code",
   "execution_count": 10,
   "metadata": {},
   "outputs": [
    {
     "output_type": "execute_result",
     "data": {
      "text/plain": [
       "(13608, 4)"
      ]
     },
     "metadata": {},
     "execution_count": 10
    }
   ],
   "source": [
    "from sklearn.impute import SimpleImputer\n",
    "from sklearn.compose import ColumnTransformer\n",
    "\n",
    "cat_features = ['discount_price_currency', 'price_detail_currency']\n",
    "num_features = ['discount_price_amount', 'price_detail_amount']\n",
    "\n",
    "cat_imp = SimpleImputer(strategy=\"most_frequent\")\n",
    "num_imp = SimpleImputer(strategy=\"mean\")\n",
    "\n",
    "imputer = ColumnTransformer([\n",
    "    ('cat_imputer', cat_imp, cat_features),\n",
    "    ('num_imputer', num_imp, num_features)\n",
    "])\n",
    "\n",
    "imp_data = imputer.fit_transform(df)\n",
    "imp_data.shape"
   ]
  },
  {
   "cell_type": "code",
   "execution_count": 11,
   "metadata": {},
   "outputs": [
    {
     "output_type": "execute_result",
     "data": {
      "text/plain": [
       "      discount_price_currency price_detail_currency discount_price_amount  \\\n",
       "0                         INR                   INR                   455   \n",
       "1                         INR                   INR                   455   \n",
       "2                         INR                   INR                   455   \n",
       "3                         INR                   INR                   455   \n",
       "4                         INR                   INR                   455   \n",
       "...                       ...                   ...                   ...   \n",
       "13603                     INR                   INR               493.944   \n",
       "13604                     INR                   INR               493.944   \n",
       "13605                     INR                   INR               493.944   \n",
       "13606                     INR                   INR               493.944   \n",
       "13607                     INR                   INR               493.944   \n",
       "\n",
       "      price_detail_amount  \n",
       "0                    8640  \n",
       "1                    8640  \n",
       "2                    8640  \n",
       "3                    8640  \n",
       "4                    8640  \n",
       "...                   ...  \n",
       "13603             4646.99  \n",
       "13604             4646.99  \n",
       "13605             4646.99  \n",
       "13606             4646.99  \n",
       "13607             4646.99  \n",
       "\n",
       "[13608 rows x 4 columns]"
      ],
      "text/html": "<div>\n<style scoped>\n    .dataframe tbody tr th:only-of-type {\n        vertical-align: middle;\n    }\n\n    .dataframe tbody tr th {\n        vertical-align: top;\n    }\n\n    .dataframe thead th {\n        text-align: right;\n    }\n</style>\n<table border=\"1\" class=\"dataframe\">\n  <thead>\n    <tr style=\"text-align: right;\">\n      <th></th>\n      <th>discount_price_currency</th>\n      <th>price_detail_currency</th>\n      <th>discount_price_amount</th>\n      <th>price_detail_amount</th>\n    </tr>\n  </thead>\n  <tbody>\n    <tr>\n      <th>0</th>\n      <td>INR</td>\n      <td>INR</td>\n      <td>455</td>\n      <td>8640</td>\n    </tr>\n    <tr>\n      <th>1</th>\n      <td>INR</td>\n      <td>INR</td>\n      <td>455</td>\n      <td>8640</td>\n    </tr>\n    <tr>\n      <th>2</th>\n      <td>INR</td>\n      <td>INR</td>\n      <td>455</td>\n      <td>8640</td>\n    </tr>\n    <tr>\n      <th>3</th>\n      <td>INR</td>\n      <td>INR</td>\n      <td>455</td>\n      <td>8640</td>\n    </tr>\n    <tr>\n      <th>4</th>\n      <td>INR</td>\n      <td>INR</td>\n      <td>455</td>\n      <td>8640</td>\n    </tr>\n    <tr>\n      <th>...</th>\n      <td>...</td>\n      <td>...</td>\n      <td>...</td>\n      <td>...</td>\n    </tr>\n    <tr>\n      <th>13603</th>\n      <td>INR</td>\n      <td>INR</td>\n      <td>493.944</td>\n      <td>4646.99</td>\n    </tr>\n    <tr>\n      <th>13604</th>\n      <td>INR</td>\n      <td>INR</td>\n      <td>493.944</td>\n      <td>4646.99</td>\n    </tr>\n    <tr>\n      <th>13605</th>\n      <td>INR</td>\n      <td>INR</td>\n      <td>493.944</td>\n      <td>4646.99</td>\n    </tr>\n    <tr>\n      <th>13606</th>\n      <td>INR</td>\n      <td>INR</td>\n      <td>493.944</td>\n      <td>4646.99</td>\n    </tr>\n    <tr>\n      <th>13607</th>\n      <td>INR</td>\n      <td>INR</td>\n      <td>493.944</td>\n      <td>4646.99</td>\n    </tr>\n  </tbody>\n</table>\n<p>13608 rows × 4 columns</p>\n</div>"
     },
     "metadata": {},
     "execution_count": 11
    }
   ],
   "source": [
    "filled_df = pd.DataFrame(imp_data, columns=cat_features+num_features)\n",
    "filled_df"
   ]
  },
  {
   "cell_type": "code",
   "execution_count": 12,
   "metadata": {},
   "outputs": [],
   "source": [
    "# drop preexisting columns (that still have missing values)\n",
    "df.drop(cat_features+num_features, axis=1, inplace=True)\n",
    "# join the original df with the new filled features\n",
    "df = df.join(filled_df);"
   ]
  },
  {
   "cell_type": "code",
   "execution_count": 13,
   "metadata": {},
   "outputs": [
    {
     "output_type": "execute_result",
     "data": {
      "text/plain": [
       "        id                                              title  \\\n",
       "0   762616  The Complete SQL Bootcamp 2020: Go from Zero t...   \n",
       "1   937678  Tableau 2020 A-Z: Hands-On Tableau Training fo...   \n",
       "2  1361790             PMP Exam Prep Seminar -  PMBOK Guide 6   \n",
       "3   648826         The Complete Financial Analyst Course 2020   \n",
       "4   637930  An Entire MBA in 1 Course:Award Winning Busine...   \n",
       "\n",
       "                                                 url  is_paid  \\\n",
       "0                 /course/the-complete-sql-bootcamp/     True   \n",
       "1                                 /course/tableau10/     True   \n",
       "2                        /course/pmp-pmbok6-35-pdus/     True   \n",
       "3     /course/the-complete-financial-analyst-course/     True   \n",
       "4  /course/an-entire-mba-in-1-courseaward-winning...     True   \n",
       "\n",
       "   num_subscribers  avg_rating  avg_rating_recent   rating  num_reviews  \\\n",
       "0           295509     4.66019            4.67874  4.67874        78006   \n",
       "1           209070     4.58956            4.60015  4.60015        54581   \n",
       "2           155282     4.59491            4.59326  4.59326        52653   \n",
       "3           245860     4.54407            4.53772  4.53772        46447   \n",
       "4           374836     4.47080            4.47173  4.47173        41630   \n",
       "\n",
       "   is_wishlisted  num_published_lectures  num_published_practice_tests  \\\n",
       "0          False                      84                             0   \n",
       "1          False                      78                             0   \n",
       "2          False                     292                             2   \n",
       "3          False                     338                             0   \n",
       "4          False                      83                             0   \n",
       "\n",
       "                created        published_time discount_price_currency  \\\n",
       "0  2016-02-14T22:57:48Z  2016-04-06T05:16:11Z                     INR   \n",
       "1  2016-08-22T12:10:18Z  2016-08-23T16:59:49Z                     INR   \n",
       "2  2017-09-26T16:32:48Z  2017-11-14T23:58:14Z                     INR   \n",
       "3  2015-10-23T13:34:35Z  2016-01-21T01:38:48Z                     INR   \n",
       "4  2015-10-12T06:39:46Z  2016-01-11T21:39:33Z                     INR   \n",
       "\n",
       "  price_detail_currency discount_price_amount price_detail_amount  \n",
       "0                   INR                   455                8640  \n",
       "1                   INR                   455                8640  \n",
       "2                   INR                   455                8640  \n",
       "3                   INR                   455                8640  \n",
       "4                   INR                   455                8640  "
      ],
      "text/html": "<div>\n<style scoped>\n    .dataframe tbody tr th:only-of-type {\n        vertical-align: middle;\n    }\n\n    .dataframe tbody tr th {\n        vertical-align: top;\n    }\n\n    .dataframe thead th {\n        text-align: right;\n    }\n</style>\n<table border=\"1\" class=\"dataframe\">\n  <thead>\n    <tr style=\"text-align: right;\">\n      <th></th>\n      <th>id</th>\n      <th>title</th>\n      <th>url</th>\n      <th>is_paid</th>\n      <th>num_subscribers</th>\n      <th>avg_rating</th>\n      <th>avg_rating_recent</th>\n      <th>rating</th>\n      <th>num_reviews</th>\n      <th>is_wishlisted</th>\n      <th>num_published_lectures</th>\n      <th>num_published_practice_tests</th>\n      <th>created</th>\n      <th>published_time</th>\n      <th>discount_price_currency</th>\n      <th>price_detail_currency</th>\n      <th>discount_price_amount</th>\n      <th>price_detail_amount</th>\n    </tr>\n  </thead>\n  <tbody>\n    <tr>\n      <th>0</th>\n      <td>762616</td>\n      <td>The Complete SQL Bootcamp 2020: Go from Zero t...</td>\n      <td>/course/the-complete-sql-bootcamp/</td>\n      <td>True</td>\n      <td>295509</td>\n      <td>4.66019</td>\n      <td>4.67874</td>\n      <td>4.67874</td>\n      <td>78006</td>\n      <td>False</td>\n      <td>84</td>\n      <td>0</td>\n      <td>2016-02-14T22:57:48Z</td>\n      <td>2016-04-06T05:16:11Z</td>\n      <td>INR</td>\n      <td>INR</td>\n      <td>455</td>\n      <td>8640</td>\n    </tr>\n    <tr>\n      <th>1</th>\n      <td>937678</td>\n      <td>Tableau 2020 A-Z: Hands-On Tableau Training fo...</td>\n      <td>/course/tableau10/</td>\n      <td>True</td>\n      <td>209070</td>\n      <td>4.58956</td>\n      <td>4.60015</td>\n      <td>4.60015</td>\n      <td>54581</td>\n      <td>False</td>\n      <td>78</td>\n      <td>0</td>\n      <td>2016-08-22T12:10:18Z</td>\n      <td>2016-08-23T16:59:49Z</td>\n      <td>INR</td>\n      <td>INR</td>\n      <td>455</td>\n      <td>8640</td>\n    </tr>\n    <tr>\n      <th>2</th>\n      <td>1361790</td>\n      <td>PMP Exam Prep Seminar -  PMBOK Guide 6</td>\n      <td>/course/pmp-pmbok6-35-pdus/</td>\n      <td>True</td>\n      <td>155282</td>\n      <td>4.59491</td>\n      <td>4.59326</td>\n      <td>4.59326</td>\n      <td>52653</td>\n      <td>False</td>\n      <td>292</td>\n      <td>2</td>\n      <td>2017-09-26T16:32:48Z</td>\n      <td>2017-11-14T23:58:14Z</td>\n      <td>INR</td>\n      <td>INR</td>\n      <td>455</td>\n      <td>8640</td>\n    </tr>\n    <tr>\n      <th>3</th>\n      <td>648826</td>\n      <td>The Complete Financial Analyst Course 2020</td>\n      <td>/course/the-complete-financial-analyst-course/</td>\n      <td>True</td>\n      <td>245860</td>\n      <td>4.54407</td>\n      <td>4.53772</td>\n      <td>4.53772</td>\n      <td>46447</td>\n      <td>False</td>\n      <td>338</td>\n      <td>0</td>\n      <td>2015-10-23T13:34:35Z</td>\n      <td>2016-01-21T01:38:48Z</td>\n      <td>INR</td>\n      <td>INR</td>\n      <td>455</td>\n      <td>8640</td>\n    </tr>\n    <tr>\n      <th>4</th>\n      <td>637930</td>\n      <td>An Entire MBA in 1 Course:Award Winning Busine...</td>\n      <td>/course/an-entire-mba-in-1-courseaward-winning...</td>\n      <td>True</td>\n      <td>374836</td>\n      <td>4.47080</td>\n      <td>4.47173</td>\n      <td>4.47173</td>\n      <td>41630</td>\n      <td>False</td>\n      <td>83</td>\n      <td>0</td>\n      <td>2015-10-12T06:39:46Z</td>\n      <td>2016-01-11T21:39:33Z</td>\n      <td>INR</td>\n      <td>INR</td>\n      <td>455</td>\n      <td>8640</td>\n    </tr>\n  </tbody>\n</table>\n</div>"
     },
     "metadata": {},
     "execution_count": 13
    }
   ],
   "source": [
    "df.head()"
   ]
  },
  {
   "cell_type": "code",
   "execution_count": 14,
   "metadata": {},
   "outputs": [
    {
     "output_type": "execute_result",
     "data": {
      "text/plain": [
       "id                              0\n",
       "title                           0\n",
       "url                             0\n",
       "is_paid                         0\n",
       "num_subscribers                 0\n",
       "avg_rating                      0\n",
       "avg_rating_recent               0\n",
       "rating                          0\n",
       "num_reviews                     0\n",
       "is_wishlisted                   0\n",
       "num_published_lectures          0\n",
       "num_published_practice_tests    0\n",
       "created                         0\n",
       "published_time                  0\n",
       "discount_price_currency         0\n",
       "price_detail_currency           0\n",
       "discount_price_amount           0\n",
       "price_detail_amount             0\n",
       "dtype: int64"
      ]
     },
     "metadata": {},
     "execution_count": 14
    }
   ],
   "source": [
    "df.isna().sum()"
   ]
  },
  {
   "source": [
    "Ready to proceed!"
   ],
   "cell_type": "markdown",
   "metadata": {}
  },
  {
   "cell_type": "code",
   "execution_count": null,
   "metadata": {},
   "outputs": [],
   "source": []
  }
 ]
}