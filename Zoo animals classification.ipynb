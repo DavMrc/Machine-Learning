{
 "metadata": {
  "language_info": {
   "codemirror_mode": {
    "name": "ipython",
    "version": 3
   },
   "file_extension": ".py",
   "mimetype": "text/x-python",
   "name": "python",
   "nbconvert_exporter": "python",
   "pygments_lexer": "ipython3",
   "version": "3.8.5-final"
  },
  "orig_nbformat": 2,
  "kernelspec": {
   "name": "Python 3.8.5 64-bit ('ml': conda)",
   "display_name": "Python 3.8.5 64-bit ('ml': conda)",
   "metadata": {
    "interpreter": {
     "hash": "5ed9ade929ebf7131992a65451890af42d9eab7dcfb648fd0fcd7ac6f8924756"
    }
   }
  }
 },
 "nbformat": 4,
 "nbformat_minor": 2,
 "cells": [
  {
   "source": [
    "https://www.kaggle.com/uciml/zoo-animal-classification"
   ],
   "cell_type": "markdown",
   "metadata": {}
  },
  {
   "cell_type": "code",
   "execution_count": 4,
   "metadata": {},
   "outputs": [],
   "source": [
    "import pandas as pd\n",
    "import numpy as np\n",
    "import matplotlib.pyplot as plt\n",
    "\n",
    "def setseed(seed=9871243):\n",
    "    np.random.seed(seed)"
   ]
  },
  {
   "cell_type": "code",
   "execution_count": 5,
   "metadata": {},
   "outputs": [],
   "source": [
    "zoo = pd.read_csv(\"./data/zoo-data.csv\")\n",
    "class_ = pd.read_csv(\"./data/zoo-class.csv\")"
   ]
  },
  {
   "cell_type": "code",
   "execution_count": 6,
   "metadata": {},
   "outputs": [
    {
     "output_type": "execute_result",
     "data": {
      "text/plain": "  animal_name  hair  feathers  eggs  milk  airborne  aquatic  predator  \\\n0    aardvark     1         0     0     1         0        0         1   \n1    antelope     1         0     0     1         0        0         0   \n2        bass     0         0     1     0         0        1         1   \n3        bear     1         0     0     1         0        0         1   \n4        boar     1         0     0     1         0        0         1   \n\n   toothed  backbone  breathes  venomous  fins  legs  tail  domestic  catsize  \\\n0        1         1         1         0     0     4     0         0        1   \n1        1         1         1         0     0     4     1         0        1   \n2        1         1         0         0     1     0     1         0        0   \n3        1         1         1         0     0     4     0         0        1   \n4        1         1         1         0     0     4     1         0        1   \n\n   class_type  \n0           1  \n1           1  \n2           4  \n3           1  \n4           1  ",
      "text/html": "<div>\n<style scoped>\n    .dataframe tbody tr th:only-of-type {\n        vertical-align: middle;\n    }\n\n    .dataframe tbody tr th {\n        vertical-align: top;\n    }\n\n    .dataframe thead th {\n        text-align: right;\n    }\n</style>\n<table border=\"1\" class=\"dataframe\">\n  <thead>\n    <tr style=\"text-align: right;\">\n      <th></th>\n      <th>animal_name</th>\n      <th>hair</th>\n      <th>feathers</th>\n      <th>eggs</th>\n      <th>milk</th>\n      <th>airborne</th>\n      <th>aquatic</th>\n      <th>predator</th>\n      <th>toothed</th>\n      <th>backbone</th>\n      <th>breathes</th>\n      <th>venomous</th>\n      <th>fins</th>\n      <th>legs</th>\n      <th>tail</th>\n      <th>domestic</th>\n      <th>catsize</th>\n      <th>class_type</th>\n    </tr>\n  </thead>\n  <tbody>\n    <tr>\n      <th>0</th>\n      <td>aardvark</td>\n      <td>1</td>\n      <td>0</td>\n      <td>0</td>\n      <td>1</td>\n      <td>0</td>\n      <td>0</td>\n      <td>1</td>\n      <td>1</td>\n      <td>1</td>\n      <td>1</td>\n      <td>0</td>\n      <td>0</td>\n      <td>4</td>\n      <td>0</td>\n      <td>0</td>\n      <td>1</td>\n      <td>1</td>\n    </tr>\n    <tr>\n      <th>1</th>\n      <td>antelope</td>\n      <td>1</td>\n      <td>0</td>\n      <td>0</td>\n      <td>1</td>\n      <td>0</td>\n      <td>0</td>\n      <td>0</td>\n      <td>1</td>\n      <td>1</td>\n      <td>1</td>\n      <td>0</td>\n      <td>0</td>\n      <td>4</td>\n      <td>1</td>\n      <td>0</td>\n      <td>1</td>\n      <td>1</td>\n    </tr>\n    <tr>\n      <th>2</th>\n      <td>bass</td>\n      <td>0</td>\n      <td>0</td>\n      <td>1</td>\n      <td>0</td>\n      <td>0</td>\n      <td>1</td>\n      <td>1</td>\n      <td>1</td>\n      <td>1</td>\n      <td>0</td>\n      <td>0</td>\n      <td>1</td>\n      <td>0</td>\n      <td>1</td>\n      <td>0</td>\n      <td>0</td>\n      <td>4</td>\n    </tr>\n    <tr>\n      <th>3</th>\n      <td>bear</td>\n      <td>1</td>\n      <td>0</td>\n      <td>0</td>\n      <td>1</td>\n      <td>0</td>\n      <td>0</td>\n      <td>1</td>\n      <td>1</td>\n      <td>1</td>\n      <td>1</td>\n      <td>0</td>\n      <td>0</td>\n      <td>4</td>\n      <td>0</td>\n      <td>0</td>\n      <td>1</td>\n      <td>1</td>\n    </tr>\n    <tr>\n      <th>4</th>\n      <td>boar</td>\n      <td>1</td>\n      <td>0</td>\n      <td>0</td>\n      <td>1</td>\n      <td>0</td>\n      <td>0</td>\n      <td>1</td>\n      <td>1</td>\n      <td>1</td>\n      <td>1</td>\n      <td>0</td>\n      <td>0</td>\n      <td>4</td>\n      <td>1</td>\n      <td>0</td>\n      <td>1</td>\n      <td>1</td>\n    </tr>\n  </tbody>\n</table>\n</div>"
     },
     "metadata": {},
     "execution_count": 6
    }
   ],
   "source": [
    "zoo.head()"
   ]
  },
  {
   "cell_type": "code",
   "execution_count": 7,
   "metadata": {
    "tags": []
   },
   "outputs": [
    {
     "output_type": "stream",
     "name": "stdout",
     "text": "<class 'pandas.core.frame.DataFrame'>\nRangeIndex: 101 entries, 0 to 100\nData columns (total 18 columns):\n #   Column       Non-Null Count  Dtype \n---  ------       --------------  ----- \n 0   animal_name  101 non-null    object\n 1   hair         101 non-null    int64 \n 2   feathers     101 non-null    int64 \n 3   eggs         101 non-null    int64 \n 4   milk         101 non-null    int64 \n 5   airborne     101 non-null    int64 \n 6   aquatic      101 non-null    int64 \n 7   predator     101 non-null    int64 \n 8   toothed      101 non-null    int64 \n 9   backbone     101 non-null    int64 \n 10  breathes     101 non-null    int64 \n 11  venomous     101 non-null    int64 \n 12  fins         101 non-null    int64 \n 13  legs         101 non-null    int64 \n 14  tail         101 non-null    int64 \n 15  domestic     101 non-null    int64 \n 16  catsize      101 non-null    int64 \n 17  class_type   101 non-null    int64 \ndtypes: int64(17), object(1)\nmemory usage: 14.3+ KB\n"
    }
   ],
   "source": [
    "zoo.info()"
   ]
  },
  {
   "cell_type": "code",
   "execution_count": 8,
   "metadata": {},
   "outputs": [
    {
     "output_type": "execute_result",
     "data": {
      "text/plain": "   Class_Number  Number_Of_Animal_Species_In_Class    Class_Type  \\\n0             1                                 41        Mammal   \n1             2                                 20          Bird   \n2             3                                  5       Reptile   \n3             4                                 13          Fish   \n4             5                                  4     Amphibian   \n5             6                                  8           Bug   \n6             7                                 10  Invertebrate   \n\n                                        Animal_Names  \n0  aardvark, antelope, bear, boar, buffalo, calf,...  \n1  chicken, crow, dove, duck, flamingo, gull, haw...  \n2    pitviper, seasnake, slowworm, tortoise, tuatara  \n3  bass, carp, catfish, chub, dogfish, haddock, h...  \n4                             frog, frog, newt, toad  \n5  flea, gnat, honeybee, housefly, ladybird, moth...  \n6  clam, crab, crayfish, lobster, octopus, scorpi...  ",
      "text/html": "<div>\n<style scoped>\n    .dataframe tbody tr th:only-of-type {\n        vertical-align: middle;\n    }\n\n    .dataframe tbody tr th {\n        vertical-align: top;\n    }\n\n    .dataframe thead th {\n        text-align: right;\n    }\n</style>\n<table border=\"1\" class=\"dataframe\">\n  <thead>\n    <tr style=\"text-align: right;\">\n      <th></th>\n      <th>Class_Number</th>\n      <th>Number_Of_Animal_Species_In_Class</th>\n      <th>Class_Type</th>\n      <th>Animal_Names</th>\n    </tr>\n  </thead>\n  <tbody>\n    <tr>\n      <th>0</th>\n      <td>1</td>\n      <td>41</td>\n      <td>Mammal</td>\n      <td>aardvark, antelope, bear, boar, buffalo, calf,...</td>\n    </tr>\n    <tr>\n      <th>1</th>\n      <td>2</td>\n      <td>20</td>\n      <td>Bird</td>\n      <td>chicken, crow, dove, duck, flamingo, gull, haw...</td>\n    </tr>\n    <tr>\n      <th>2</th>\n      <td>3</td>\n      <td>5</td>\n      <td>Reptile</td>\n      <td>pitviper, seasnake, slowworm, tortoise, tuatara</td>\n    </tr>\n    <tr>\n      <th>3</th>\n      <td>4</td>\n      <td>13</td>\n      <td>Fish</td>\n      <td>bass, carp, catfish, chub, dogfish, haddock, h...</td>\n    </tr>\n    <tr>\n      <th>4</th>\n      <td>5</td>\n      <td>4</td>\n      <td>Amphibian</td>\n      <td>frog, frog, newt, toad</td>\n    </tr>\n    <tr>\n      <th>5</th>\n      <td>6</td>\n      <td>8</td>\n      <td>Bug</td>\n      <td>flea, gnat, honeybee, housefly, ladybird, moth...</td>\n    </tr>\n    <tr>\n      <th>6</th>\n      <td>7</td>\n      <td>10</td>\n      <td>Invertebrate</td>\n      <td>clam, crab, crayfish, lobster, octopus, scorpi...</td>\n    </tr>\n  </tbody>\n</table>\n</div>"
     },
     "metadata": {},
     "execution_count": 8
    }
   ],
   "source": [
    "class_"
   ]
  },
  {
   "source": [
    "The `class_` dataframe, as it is now, cannot represent our target `y`.  \n",
    "It would be cleaner and easier to have a dataframe such as:\n",
    "```\n",
    "+    name  +  class   +\n",
    "----------------------\n",
    "+ aardvark |     1    +\n",
    "+ antelope |     1    +\n",
    "```\n",
    "\n",
    "We'll be building it ourselves. What we have to do is:\n",
    "* create a dictionary with key \"animal_name\" and value a copy of the `animal_name` column (from `zoo` df)\n",
    "* create a key \"class_number\" with value the classification that the animal has"
   ],
   "cell_type": "markdown",
   "metadata": {}
  },
  {
   "cell_type": "code",
   "execution_count": 9,
   "metadata": {
    "tags": []
   },
   "outputs": [
    {
     "output_type": "execute_result",
     "data": {
      "text/plain": "['aardvark', 'antelope', 'bass', 'bear', 'boar']"
     },
     "metadata": {},
     "execution_count": 9
    }
   ],
   "source": [
    "animal_names = list(zoo.animal_name)\n",
    "animal_names[:5]"
   ]
  },
  {
   "cell_type": "code",
   "execution_count": 10,
   "metadata": {
    "tags": []
   },
   "outputs": [
    {
     "output_type": "execute_result",
     "data": {
      "text/plain": "[1, 1, 4, 1, 1]"
     },
     "metadata": {},
     "execution_count": 10
    }
   ],
   "source": [
    "class_numbers = []\n",
    "\n",
    "for animal in animal_names:\n",
    "    for i in range(len(class_)):\n",
    "        if animal in class_.Animal_Names[i].split(', '):\n",
    "            class_numbers.append(i+1)\n",
    "            break\n",
    "\n",
    "class_numbers[:5]"
   ]
  },
  {
   "cell_type": "code",
   "execution_count": 11,
   "metadata": {
    "tags": []
   },
   "outputs": [
    {
     "output_type": "execute_result",
     "data": {
      "text/plain": "  animal_name  class_number\n0    aardvark             1\n1    antelope             1\n2        bass             4\n3        bear             1\n4        boar             1",
      "text/html": "<div>\n<style scoped>\n    .dataframe tbody tr th:only-of-type {\n        vertical-align: middle;\n    }\n\n    .dataframe tbody tr th {\n        vertical-align: top;\n    }\n\n    .dataframe thead th {\n        text-align: right;\n    }\n</style>\n<table border=\"1\" class=\"dataframe\">\n  <thead>\n    <tr style=\"text-align: right;\">\n      <th></th>\n      <th>animal_name</th>\n      <th>class_number</th>\n    </tr>\n  </thead>\n  <tbody>\n    <tr>\n      <th>0</th>\n      <td>aardvark</td>\n      <td>1</td>\n    </tr>\n    <tr>\n      <th>1</th>\n      <td>antelope</td>\n      <td>1</td>\n    </tr>\n    <tr>\n      <th>2</th>\n      <td>bass</td>\n      <td>4</td>\n    </tr>\n    <tr>\n      <th>3</th>\n      <td>bear</td>\n      <td>1</td>\n    </tr>\n    <tr>\n      <th>4</th>\n      <td>boar</td>\n      <td>1</td>\n    </tr>\n  </tbody>\n</table>\n</div>"
     },
     "metadata": {},
     "execution_count": 11
    }
   ],
   "source": [
    "classifications = pd.DataFrame({\n",
    "    'animal_name': animal_names,\n",
    "    'class_number': class_numbers\n",
    "})\n",
    "classifications.head()"
   ]
  },
  {
   "source": [
    "Now let's create `X` and `y`.  \n",
    "For the purpose of X and y, the column `name` is meaningless. We'll then `drop()` it."
   ],
   "cell_type": "markdown",
   "metadata": {}
  },
  {
   "cell_type": "code",
   "execution_count": 12,
   "metadata": {},
   "outputs": [],
   "source": [
    "X = zoo.drop(\"animal_name\", axis=1)\n",
    "y = classifications.drop(\"animal_name\", axis=1)"
   ]
  },
  {
   "cell_type": "code",
   "execution_count": 13,
   "metadata": {},
   "outputs": [
    {
     "output_type": "execute_result",
     "data": {
      "text/plain": "   hair  feathers  eggs  milk  airborne  aquatic  predator  toothed  backbone  \\\n0     1         0     0     1         0        0         1        1         1   \n1     1         0     0     1         0        0         0        1         1   \n2     0         0     1     0         0        1         1        1         1   \n3     1         0     0     1         0        0         1        1         1   \n4     1         0     0     1         0        0         1        1         1   \n\n   breathes  venomous  fins  legs  tail  domestic  catsize  class_type  \n0         1         0     0     4     0         0        1           1  \n1         1         0     0     4     1         0        1           1  \n2         0         0     1     0     1         0        0           4  \n3         1         0     0     4     0         0        1           1  \n4         1         0     0     4     1         0        1           1  ",
      "text/html": "<div>\n<style scoped>\n    .dataframe tbody tr th:only-of-type {\n        vertical-align: middle;\n    }\n\n    .dataframe tbody tr th {\n        vertical-align: top;\n    }\n\n    .dataframe thead th {\n        text-align: right;\n    }\n</style>\n<table border=\"1\" class=\"dataframe\">\n  <thead>\n    <tr style=\"text-align: right;\">\n      <th></th>\n      <th>hair</th>\n      <th>feathers</th>\n      <th>eggs</th>\n      <th>milk</th>\n      <th>airborne</th>\n      <th>aquatic</th>\n      <th>predator</th>\n      <th>toothed</th>\n      <th>backbone</th>\n      <th>breathes</th>\n      <th>venomous</th>\n      <th>fins</th>\n      <th>legs</th>\n      <th>tail</th>\n      <th>domestic</th>\n      <th>catsize</th>\n      <th>class_type</th>\n    </tr>\n  </thead>\n  <tbody>\n    <tr>\n      <th>0</th>\n      <td>1</td>\n      <td>0</td>\n      <td>0</td>\n      <td>1</td>\n      <td>0</td>\n      <td>0</td>\n      <td>1</td>\n      <td>1</td>\n      <td>1</td>\n      <td>1</td>\n      <td>0</td>\n      <td>0</td>\n      <td>4</td>\n      <td>0</td>\n      <td>0</td>\n      <td>1</td>\n      <td>1</td>\n    </tr>\n    <tr>\n      <th>1</th>\n      <td>1</td>\n      <td>0</td>\n      <td>0</td>\n      <td>1</td>\n      <td>0</td>\n      <td>0</td>\n      <td>0</td>\n      <td>1</td>\n      <td>1</td>\n      <td>1</td>\n      <td>0</td>\n      <td>0</td>\n      <td>4</td>\n      <td>1</td>\n      <td>0</td>\n      <td>1</td>\n      <td>1</td>\n    </tr>\n    <tr>\n      <th>2</th>\n      <td>0</td>\n      <td>0</td>\n      <td>1</td>\n      <td>0</td>\n      <td>0</td>\n      <td>1</td>\n      <td>1</td>\n      <td>1</td>\n      <td>1</td>\n      <td>0</td>\n      <td>0</td>\n      <td>1</td>\n      <td>0</td>\n      <td>1</td>\n      <td>0</td>\n      <td>0</td>\n      <td>4</td>\n    </tr>\n    <tr>\n      <th>3</th>\n      <td>1</td>\n      <td>0</td>\n      <td>0</td>\n      <td>1</td>\n      <td>0</td>\n      <td>0</td>\n      <td>1</td>\n      <td>1</td>\n      <td>1</td>\n      <td>1</td>\n      <td>0</td>\n      <td>0</td>\n      <td>4</td>\n      <td>0</td>\n      <td>0</td>\n      <td>1</td>\n      <td>1</td>\n    </tr>\n    <tr>\n      <th>4</th>\n      <td>1</td>\n      <td>0</td>\n      <td>0</td>\n      <td>1</td>\n      <td>0</td>\n      <td>0</td>\n      <td>1</td>\n      <td>1</td>\n      <td>1</td>\n      <td>1</td>\n      <td>0</td>\n      <td>0</td>\n      <td>4</td>\n      <td>1</td>\n      <td>0</td>\n      <td>1</td>\n      <td>1</td>\n    </tr>\n  </tbody>\n</table>\n</div>"
     },
     "metadata": {},
     "execution_count": 13
    }
   ],
   "source": [
    "X.head()"
   ]
  },
  {
   "cell_type": "code",
   "execution_count": 14,
   "metadata": {},
   "outputs": [
    {
     "output_type": "execute_result",
     "data": {
      "text/plain": "   class_number\n0             1\n1             1\n2             4\n3             1\n4             1",
      "text/html": "<div>\n<style scoped>\n    .dataframe tbody tr th:only-of-type {\n        vertical-align: middle;\n    }\n\n    .dataframe tbody tr th {\n        vertical-align: top;\n    }\n\n    .dataframe thead th {\n        text-align: right;\n    }\n</style>\n<table border=\"1\" class=\"dataframe\">\n  <thead>\n    <tr style=\"text-align: right;\">\n      <th></th>\n      <th>class_number</th>\n    </tr>\n  </thead>\n  <tbody>\n    <tr>\n      <th>0</th>\n      <td>1</td>\n    </tr>\n    <tr>\n      <th>1</th>\n      <td>1</td>\n    </tr>\n    <tr>\n      <th>2</th>\n      <td>4</td>\n    </tr>\n    <tr>\n      <th>3</th>\n      <td>1</td>\n    </tr>\n    <tr>\n      <th>4</th>\n      <td>1</td>\n    </tr>\n  </tbody>\n</table>\n</div>"
     },
     "metadata": {},
     "execution_count": 14
    }
   ],
   "source": [
    "y.head()"
   ]
  },
  {
   "source": [
    "Now let's create two models and compare them to each other.  \n"
   ],
   "cell_type": "markdown",
   "metadata": {}
  },
  {
   "cell_type": "code",
   "execution_count": 15,
   "metadata": {},
   "outputs": [],
   "source": [
    "from sklearn.model_selection import train_test_split\n",
    "\n",
    "X_train, X_test, y_train, y_test = train_test_split(X, y, test_size=0.2)"
   ]
  },
  {
   "cell_type": "code",
   "execution_count": 16,
   "metadata": {},
   "outputs": [
    {
     "output_type": "execute_result",
     "data": {
      "text/plain": "(0.9047619047619048, 1.0)"
     },
     "metadata": {},
     "execution_count": 16
    }
   ],
   "source": [
    "from sklearn.svm import LinearSVC\n",
    "from sklearn.ensemble import RandomForestClassifier\n",
    "\n",
    "setseed()\n",
    "\n",
    "svc = LinearSVC()\n",
    "rfc = RandomForestClassifier()\n",
    "\n",
    "svc.fit(X_train, y_train)\n",
    "rfc.fit(X_train, y_train)\n",
    "\n",
    "svc.score(X_test, y_test), rfc.score(X_test, y_test)"
   ]
  },
  {
   "source": [
    "Well... either there are some really good patterns ore both of our models are overfitting.  \n",
    "Let's try to cross-validate our training data."
   ],
   "cell_type": "markdown",
   "metadata": {}
  },
  {
   "cell_type": "code",
   "execution_count": null,
   "metadata": {},
   "outputs": [],
   "source": []
  }
 ]
}